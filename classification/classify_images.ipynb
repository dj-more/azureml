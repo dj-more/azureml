{
 "nbformat": 4,
 "nbformat_minor": 2,
 "metadata": {
  "language_info": {
   "name": "python",
   "codemirror_mode": {
    "name": "ipython",
    "version": 3
   },
   "version": "3.7.4"
  },
  "orig_nbformat": 2,
  "file_extension": ".py",
  "mimetype": "text/x-python",
  "name": "python",
  "npconvert_exporter": "python",
  "pygments_lexer": "ipython3",
  "version": 3
 },
 "cells": [
  {
   "cell_type": "code",
   "execution_count": 2,
   "metadata": {},
   "outputs": [],
   "source": [
    "\n",
    "# Configure workspace and create datastore\n",
    "# Create a workspace object from the existing workspace. A Workspace # is a class # that accepts your Azure subscription and resource \n",
    "# information. It also creates # a cloud resource to monitor and  track your model runs. Workspace.from_config() # reads the file config.json and loads the authentication details into an object named ws. ws is used throughout the rest of the code in this tutorial."
   ]
  },
  {
   "source": [
    "from azureml.core.model import Model\n",
    "\n",
    "model = Model.register(model_path=\"C:\\\\Users\\\\dhmor\\\\Documents\\\\Azure\\\\azureml\\\\classification\\\\models\\\\inception_v3.ckpt\",\n",
    "                    model_name=\"inception\",\n",
    "                    tags={\"pretrained\":\"inception\"},\n",
    "                    description=\"ImageNet trained tensorflow inception\", workspace=ws)"
   ],
   "cell_type": "code",
   "outputs": [
    {
     "output_type": "stream",
     "name": "stdout",
     "text": "Registering model inception\n"
    }
   ],
   "metadata": {},
   "execution_count": 14
  },
  {
   "source": [
    "import os\n",
    "import tarfile\n",
    "import urllib.request\n",
    "\n",
    "if not os.path.isdir(\"C:\\\\Users\\\\dhmor\\\\Documents\\\\Azure\\\\azureml\\\\classification\\\\models\"):\n",
    "    os.mkdir(\"C:\\\\Users\\\\dhmor\\\\Documents\\\\Azure\\\\azureml\\\\classification\\\\models\")\n",
    "\n",
    "if not os.path.isfile(\"C:\\\\Users\\\\dhmor\\\\Documents\\\\Azure\\\\azureml\\\\classification\\\\models\\\\inception_v2.ckpt\"):\n",
    "    response = urllib.request.urlretrieve(\"http://download.tensorflow.org/models/inception_v3_2016_08_28.tar.gz\", \"model.tar.gz\")\n",
    "    tar = tarfile.open(\"model.tar.gz\", \"r:gz\")\n",
    "    tar.extractall(\"C:\\\\Users\\\\dhmor\\\\Documents\\\\Azure\\\\azureml\\\\classification\\\\models\")\n",
    "else : \n",
    "    print(\"Your model already exists !!\")\n",
    ""
   ],
   "cell_type": "code",
   "outputs": [],
   "metadata": {},
   "execution_count": 12
  },
  {
   "cell_type": "code",
   "execution_count": null,
   "metadata": {},
   "outputs": [],
   "source": []
  },
  {
   "cell_type": "code",
   "execution_count": null,
   "metadata": {},
   "outputs": [],
   "source": []
  },
  {
   "source": [
    "from azureml.core import Workspace\n",
    "ws = Workspace.from_config(\"C:\\\\Users\\\\dhmor\\\\Documents\\\\Azure\\\\azureml\\\\classification\\\\config.json\")"
   ],
   "cell_type": "code",
   "outputs": [
    {
     "output_type": "stream",
     "name": "stderr",
     "text": "Warning: Falling back to use azure cli login credentials.\nIf you run your code in unattended mode, i.e., where you can't give a user input, then we recommend to use ServicePrincipalAuthentication or MsiAuthentication.\nPlease refer to aka.ms/aml-notebook-auth for different authentication mechanisms in azureml-sdk.\n"
    }
   ],
   "metadata": {},
   "execution_count": 1
  }
 ]
}